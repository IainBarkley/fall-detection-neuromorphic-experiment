{
 "cells": [
  {
   "cell_type": "code",
   "execution_count": 160,
   "id": "a7a5d5e7",
   "metadata": {},
   "outputs": [],
   "source": [
    "import matplotlib.pyplot as plt\n",
    "import keras\n",
    "import keras_lmu\n",
    "import numpy as np\n",
    "import nengo\n",
    "import pandas as pd\n",
    "from scipy.special import softmax\n",
    "from sklearn.metrics import confusion_matrix, roc_curve\n",
    "import sys,os\n",
    "from tensorflow.keras.layers import Dense\n",
    "import tensorflow as tf"
   ]
  },
  {
   "cell_type": "code",
   "execution_count": 161,
   "id": "a7dd48d8",
   "metadata": {},
   "outputs": [],
   "source": [
    "sys.path.insert(0,'../networks')\n",
    "from ldn import LDN"
   ]
  },
  {
   "cell_type": "code",
   "execution_count": 162,
   "id": "e3538c19",
   "metadata": {},
   "outputs": [],
   "source": [
    "sys.path.insert(0,'../')\n",
    "from utilities import generate_train_test_split\n",
    "data_dir = '../fall_detection_data/merged_processed/'\n",
    "subject_file = 'SA06-merged.csv'"
   ]
  },
  {
   "cell_type": "code",
   "execution_count": 163,
   "id": "3bbd3e66",
   "metadata": {},
   "outputs": [
    {
     "name": "stderr",
     "output_type": "stream",
     "text": [
      "/tmp/ipykernel_52641/1193399771.py:8: DtypeWarning: Columns (13) have mixed types. Specify dtype option on import or set low_memory=False.\n",
      "  ddf = pd.read_csv(os.path.join(data_dir,subject_file),index_col=0).drop(['TimeStamp(s)','FrameCounter'],axis=1)\n"
     ]
    }
   ],
   "source": [
    "# LDN parameters\n",
    "size_in = 9         # 9 features of the fall detection data\n",
    "theta = 1\n",
    "q = 42\n",
    "\n",
    "\n",
    "# load data and generate the train/test split\n",
    "ddf = pd.read_csv(os.path.join(data_dir,subject_file),index_col=0).drop(['TimeStamp(s)','FrameCounter'],axis=1)\n",
    "#print(ddf)\n",
    "\n",
    "train_test_split = 0.8\n",
    "chunk_size = 3600"
   ]
  },
  {
   "cell_type": "code",
   "execution_count": 164,
   "id": "4b1353fe",
   "metadata": {},
   "outputs": [],
   "source": [
    "# Extracting and preprocessing the data\n",
    "chunk_indices = np.arange(0,ddf.shape[0],chunk_size)\n",
    "train_chunk_indices = np.random.choice(chunk_indices,size = int(len(chunk_indices)*train_test_split), replace = False)\n",
    "test_chunk_indices = list(set(chunk_indices)-set(train_chunk_indices))\n",
    "\n",
    "train_df = pd.DataFrame(columns=ddf.columns)\n",
    "for idx in train_chunk_indices:\n",
    "    train_df = pd.concat([train_df,ddf.iloc[idx:idx+chunk_size,:]],axis=0)\n",
    "\n",
    "test_df = pd.DataFrame(columns=ddf.columns)\n",
    "for idx in test_chunk_indices:\n",
    "    test_df = pd.concat([test_df,ddf.iloc[idx:idx+chunk_size,:]],axis=0)\n",
    "\n",
    "train_xs = train_df[['AccX','AccY','AccZ','GyrX','GyrY','GyrZ','EulerX','EulerY','EulerZ']].to_numpy().astype(float)\n",
    "lmu_train_xs = LDN(theta=theta, q=q, size_in=size_in).apply(train_xs)\n",
    "train_ys = train_df[['Fall/No Fall']].to_numpy().astype(int)\n",
    "\n",
    "test_xs = test_df[['AccX','AccY','AccZ','GyrX','GyrY','GyrZ','EulerX','EulerY','EulerZ']].to_numpy().astype(float)\n",
    "test_ys = test_df[['Fall/No Fall']].to_numpy().astype(int)"
   ]
  },
  {
   "cell_type": "code",
   "execution_count": 165,
   "id": "d37a246c",
   "metadata": {},
   "outputs": [
    {
     "name": "stdout",
     "output_type": "stream",
     "text": [
      "97200\n"
     ]
    }
   ],
   "source": [
    "num_classes = len(np.unique(train_ys))\n",
    "train_xs = train_xs.reshape((train_xs.shape[0], train_xs.shape[1], 1))\n",
    "test_xs = test_xs.reshape((test_xs.shape[0], test_xs.shape[1], 1))\n",
    "\n",
    "idx = np.random.permutation(len(train_xs))\n",
    "print(len(train_xs))\n",
    "train_xs = train_xs[idx]\n",
    "train_ys = train_ys[idx]"
   ]
  },
  {
   "cell_type": "code",
   "execution_count": 166,
   "id": "a9f64d04",
   "metadata": {},
   "outputs": [],
   "source": [
    "# Model Definition\n",
    "def make_model(input_shape):\n",
    "    input_layer = keras.layers.Input(input_shape)\n",
    "\n",
    "    conv1 = keras.layers.Conv1D(filters=64, kernel_size=3, padding=\"same\")(input_layer)\n",
    "    conv1 = keras.layers.BatchNormalization()(conv1)\n",
    "    conv1 = keras.layers.ReLU()(conv1)\n",
    "\n",
    "    conv2 = keras.layers.Conv1D(filters=64, kernel_size=3, padding=\"same\")(conv1)\n",
    "    conv2 = keras.layers.BatchNormalization()(conv2)\n",
    "    conv2 = keras.layers.ReLU()(conv2)\n",
    "\n",
    "    conv3 = keras.layers.Conv1D(filters=64, kernel_size=3, padding=\"same\")(conv2)\n",
    "    conv3 = keras.layers.BatchNormalization()(conv3)\n",
    "    conv3 = keras.layers.ReLU()(conv3)\n",
    "\n",
    "    # Defining LMU layer\n",
    "    lmu_layer = keras_lmu.LMU(\n",
    "        memory_d=9,\n",
    "        order=42,\n",
    "        theta=1,\n",
    "        hidden_cell=tf.keras.layers.SimpleRNNCell(units=500),\n",
    "        )(conv3)\n",
    "    #lmu_layer = keras_lmu.LMU(\n",
    "    #    memory_d=9,\n",
    "    #    order=42,\n",
    "    #    theta=1,\n",
    "    #    hidden_cell=tf.keras.layers.SimpleRNNCell(units=500),\n",
    "    #    )(conv3)\n",
    "\n",
    "    #lmus = lmu_layer(input_layer)\n",
    "    #input_layer()\n",
    "    output_layer = Dense(num_classes, activation=\"softmax\")(lmu_layer)\n",
    "\n",
    "    return keras.models.Model(inputs=input_layer, outputs=output_layer)"
   ]
  },
  {
   "cell_type": "code",
   "execution_count": 167,
   "id": "7235c7d4",
   "metadata": {},
   "outputs": [
    {
     "name": "stdout",
     "output_type": "stream",
     "text": [
      "You must install pydot (`pip install pydot`) and install graphviz (see instructions at https://graphviz.gitlab.io/download/) for plot_model to work.\n"
     ]
    }
   ],
   "source": [
    "model = make_model(input_shape=test_xs.shape[1:])\n",
    "keras.utils.plot_model(model, show_shapes=True)\n",
    "epochs = 1\n",
    "batch_size = 256"
   ]
  },
  {
   "cell_type": "code",
   "execution_count": 168,
   "id": "609de1c4",
   "metadata": {},
   "outputs": [
    {
     "name": "stdout",
     "output_type": "stream",
     "text": [
      "304/304 [==============================] - 118s 384ms/step - loss: 0.0708 - sparse_categorical_accuracy: 0.9767 - val_loss: 0.0751 - val_sparse_categorical_accuracy: 0.9803 - lr: 0.0010\n"
     ]
    }
   ],
   "source": [
    "callbacks = [\n",
    "    keras.callbacks.ModelCheckpoint(\n",
    "        \"best_model.h5\", save_best_only=True, monitor=\"val_loss\"\n",
    "    ),\n",
    "    keras.callbacks.ReduceLROnPlateau(\n",
    "        monitor=\"val_loss\", factor=0.5, patience=20, min_lr=0.0001\n",
    "    ),\n",
    "    keras.callbacks.EarlyStopping(monitor=\"val_loss\", patience=50, verbose=1),\n",
    "]\n",
    "model.compile(\n",
    "    optimizer=\"adam\",\n",
    "    loss=\"sparse_categorical_crossentropy\",\n",
    "    metrics=[\"sparse_categorical_accuracy\"],\n",
    ")\n",
    "history = model.fit(\n",
    "    train_xs,\n",
    "    train_ys,\n",
    "    batch_size=batch_size,\n",
    "    epochs=epochs,\n",
    "    callbacks=callbacks,\n",
    "    validation_split=0.2,\n",
    "    verbose=1,\n",
    ")"
   ]
  },
  {
   "cell_type": "code",
   "execution_count": 169,
   "id": "7450a4a4",
   "metadata": {},
   "outputs": [],
   "source": [
    "model = keras.models.load_model(\"best_model.h5\")"
   ]
  },
  {
   "cell_type": "code",
   "execution_count": 170,
   "id": "91ec0bcb",
   "metadata": {},
   "outputs": [
    {
     "name": "stdout",
     "output_type": "stream",
     "text": [
      "684/684 [==============================] - 17s 25ms/step\n"
     ]
    }
   ],
   "source": [
    "predict_ys = model.predict(test_xs)"
   ]
  },
  {
   "cell_type": "code",
   "execution_count": 171,
   "id": "40313ce8",
   "metadata": {},
   "outputs": [
    {
     "name": "stdout",
     "output_type": "stream",
     "text": [
      "(21861,)\n"
     ]
    }
   ],
   "source": [
    "predictions = np.argmax(predict_ys, axis = 1)\n",
    "predictions_score = np.argmax(predict_ys, axis = 1) * np.max(predict_ys, axis = 1) / np.sum(predict_ys, axis=1)\n",
    "print(predictions_score.shape)"
   ]
  },
  {
   "cell_type": "code",
   "execution_count": 138,
   "id": "ac27edad",
   "metadata": {},
   "outputs": [
    {
     "data": {
      "image/png": "[encoded data removed]",
      "text/plain": [
       "<Figure size 640x480 with 2 Axes>"
      ]
     },
     "metadata": {},
     "output_type": "display_data"
    }
   ],
   "source": [
    "fig,axs = plt.subplots(1,2)\n",
    "fpr,tpr,thr = roc_curve(y_true = test_ys, y_score = predictions_score,pos_label=1)\n",
    "axs[0].plot(fpr,tpr)\n",
    "#pre,rec,thr = precision_recall_curve(y_true = prdf['y-true'], probas_pred = prdf['y-score'], pos_label = 1)\n",
    "#axs[1].plot(rec,pre)\n",
    "plt.show()"
   ]
  },
  {
   "cell_type": "code",
   "execution_count": 139,
   "id": "458d9d8f",
   "metadata": {},
   "outputs": [
    {
     "data": {
      "image/png": "[encoded data removed]",
      "text/plain": [
       "<Figure size 500x400 with 2 Axes>"
      ]
     },
     "metadata": {},
     "output_type": "display_data"
    }
   ],
   "source": [
    "CM = confusion_matrix(test_ys,predictions,normalize='true')\n",
    "accuracy_metrics = CM.ravel()\n",
    "\n",
    "TN = accuracy_metrics[0]\n",
    "FP = accuracy_metrics[1]\n",
    "FN = accuracy_metrics[2]\n",
    "TP = accuracy_metrics[3]\n",
    "\n",
    "fig,(ax,cax) = plt.subplots(1,2,figsize=(5,4),gridspec_kw={'width_ratios':[10,1]})\n",
    "im = ax.imshow(CM,vmin=0.,vmax=1.,cmap = 'copper',aspect='auto')\n",
    "    \n",
    "ax.set_xticks([0,1])\n",
    "ax.set_xticklabels(['Not Fall','Fall'])\n",
    "ax.set_xlabel('Predicted class')\n",
    "ax.tick_params(top=True, labeltop=True, bottom=False, labelbottom=False)\n",
    "ax.xaxis.set_label_position('top')\n",
    "    \n",
    "ax.set_yticks([0,1])\n",
    "ax.set_yticklabels(['Not Fall','Fall'])\n",
    "ax.set_ylabel('True class')\n",
    "    \n",
    "cbar = fig.colorbar(im, cax = cax)\n",
    "    \n",
    "fig.tight_layout()\n",
    "plt.show()"
   ]
  },
  {
   "cell_type": "code",
   "execution_count": 142,
   "id": "a2c8593b",
   "metadata": {},
   "outputs": [
    {
     "data": {
      "image/png": "[encoded data removed]",
      "text/plain": [
       "<Figure size 640x480 with 2 Axes>"
      ]
     },
     "metadata": {},
     "output_type": "display_data"
    }
   ],
   "source": [
    "time = np.arange(test_xs.shape[0])\n",
    "#tn, fp, fn, tp = confusion_matrix(test_ys.flatten(), np.amax(predictions.flatten(), axis=0).ravel())\n",
    "\n",
    "# performance_metric, number in zip(('True Negatives','False Positives','False Negatives','True Positives'),(tn, fp, fn, tp)):\n",
    " #   print('{}: {}'.format(performance_metric,number))\n",
    "fig, (ax1,ax2) = plt.subplots(2,1,sharex=True)\n",
    "time = np.arange(len(test_xs))\n",
    "ax1.plot(time, test_ys.flatten(), label='True')\n",
    "#ax2.plot(time, [p_category]/scaling_factor, label='Predicted')\n",
    "ax2.plot(time, predictions.flatten(), color=\"orange\", label = 'Predicted')\n",
    "ax1.legend()\n",
    "ax2.legend()\n",
    "plt.show()"
   ]
  },
  {
   "cell_type": "code",
   "execution_count": null,
   "id": "19ee02bb",
   "metadata": {},
   "outputs": [],
   "source": []
  },
  {
   "cell_type": "code",
   "execution_count": 141,
   "id": "df37e878",
   "metadata": {},
   "outputs": [
    {
     "data": {
      "text/plain": [
       "array([0, 0, 0, ..., 0, 0, 0])"
      ]
     },
     "execution_count": 141,
     "metadata": {},
     "output_type": "execute_result"
    }
   ],
   "source": [
    "test_ys.flatten()"
   ]
  },
  {
   "cell_type": "code",
   "execution_count": null,
   "id": "138237d8",
   "metadata": {},
   "outputs": [],
   "source": []
  }
 ],
 "metadata": {
  "kernelspec": {
   "display_name": "Python 3 (ipykernel)",
   "language": "python",
   "name": "python3"
  },
  "language_info": {
   "codemirror_mode": {
    "name": "ipython",
    "version": 3
   },
   "file_extension": ".py",
   "mimetype": "text/x-python",
   "name": "python",
   "nbconvert_exporter": "python",
   "pygments_lexer": "ipython3",
   "version": "3.10.6"
  }
 },
 "nbformat": 4,
 "nbformat_minor": 5
}
