{
 "cells": [
  {
   "cell_type": "code",
   "execution_count": 25,
   "id": "b1fd1db1",
   "metadata": {},
   "outputs": [],
   "source": [
    "import matplotlib.pyplot as plt\n",
    "import keras\n",
    "import keras_lmu\n",
    "import numpy as np\n",
    "import nengo\n",
    "import pandas as pd\n",
    "from scipy.special import softmax\n",
    "from sklearn.metrics import confusion_matrix, roc_curve\n",
    "import sys,os\n",
    "from tensorflow.keras.layers import Dense\n",
    "import tensorflow as tf"
   ]
  },
  {
   "cell_type": "code",
   "execution_count": 26,
   "id": "d3e8dc9b",
   "metadata": {},
   "outputs": [],
   "source": [
    "sys.path.insert(0,'../networks')\n",
    "from ldn import LDN"
   ]
  },
  {
   "cell_type": "code",
   "execution_count": 27,
   "id": "04d552c7",
   "metadata": {},
   "outputs": [],
   "source": [
    "sys.path.insert(0,'../')\n",
    "from utilities import generate_train_test_split\n",
    "data_dir = '../fall_detection_data/merged_processed/'\n",
    "subject_file = 'SA06-merged.csv'"
   ]
  },
  {
   "cell_type": "code",
   "execution_count": 28,
   "id": "bc88d7e4",
   "metadata": {},
   "outputs": [
    {
     "name": "stderr",
     "output_type": "stream",
     "text": [
      "/tmp/ipykernel_14283/1193399771.py:8: DtypeWarning: Columns (13) have mixed types. Specify dtype option on import or set low_memory=False.\n",
      "  ddf = pd.read_csv(os.path.join(data_dir,subject_file),index_col=0).drop(['TimeStamp(s)','FrameCounter'],axis=1)\n"
     ]
    }
   ],
   "source": [
    "# LDN parameters\n",
    "size_in = 9         # 9 features of the fall detection data\n",
    "theta = 1\n",
    "q = 42\n",
    "\n",
    "\n",
    "# load data and generate the train/test split\n",
    "ddf = pd.read_csv(os.path.join(data_dir,subject_file),index_col=0).drop(['TimeStamp(s)','FrameCounter'],axis=1)\n",
    "#print(ddf)\n",
    "\n",
    "train_test_split = 0.8\n",
    "chunk_size = 3600"
   ]
  },
  {
   "cell_type": "code",
   "execution_count": 29,
   "id": "94571ed9",
   "metadata": {},
   "outputs": [],
   "source": [
    "# Extracting and preprocessing the data\n",
    "chunk_indices = np.arange(0,ddf.shape[0],chunk_size)\n",
    "train_chunk_indices = np.random.choice(chunk_indices,size = int(len(chunk_indices)*train_test_split), replace = False)\n",
    "test_chunk_indices = list(set(chunk_indices)-set(train_chunk_indices))\n",
    "\n",
    "train_df = pd.DataFrame(columns=ddf.columns)\n",
    "for idx in train_chunk_indices:\n",
    "    train_df = pd.concat([train_df,ddf.iloc[idx:idx+chunk_size,:]],axis=0)\n",
    "\n",
    "test_df = pd.DataFrame(columns=ddf.columns)\n",
    "for idx in test_chunk_indices:\n",
    "    test_df = pd.concat([test_df,ddf.iloc[idx:idx+chunk_size,:]],axis=0)\n",
    "\n",
    "train_xs = train_df[['AccX','AccY','AccZ','GyrX','GyrY','GyrZ','EulerX','EulerY','EulerZ']].to_numpy().astype(float)\n",
    "lmu_train_xs = LDN(theta=theta, q=q, size_in=size_in).apply(train_xs)\n",
    "train_ys = train_df[['Fall/No Fall']].to_numpy().astype(int)\n",
    "\n",
    "test_xs = test_df[['AccX','AccY','AccZ','GyrX','GyrY','GyrZ','EulerX','EulerY','EulerZ']].to_numpy().astype(float)\n",
    "test_ys = test_df[['Fall/No Fall']].to_numpy().astype(int)"
   ]
  },
  {
   "cell_type": "code",
   "execution_count": 30,
   "id": "4c4beb8a",
   "metadata": {},
   "outputs": [
    {
     "name": "stdout",
     "output_type": "stream",
     "text": [
      "93861\n"
     ]
    }
   ],
   "source": [
    "num_classes = len(np.unique(train_ys))\n",
    "train_xs = train_xs.reshape((train_xs.shape[0], train_xs.shape[1], 1))\n",
    "test_xs = test_xs.reshape((test_xs.shape[0], test_xs.shape[1], 1))\n",
    "\n",
    "idx = np.random.permutation(len(train_xs))\n",
    "print(len(train_xs))\n",
    "train_xs = train_xs[idx]\n",
    "train_ys = train_ys[idx]"
   ]
  },
  {
   "cell_type": "code",
   "execution_count": 33,
   "id": "7af2545a",
   "metadata": {},
   "outputs": [],
   "source": [
    "def make_model(input_shape):\n",
    "    input_layer = keras.layers.Input(input_shape)\n",
    "\n",
    "    conv1 = keras.layers.Conv1D(filters=64, kernel_size=3, padding=\"same\")(input_layer)\n",
    "    conv1 = keras.layers.BatchNormalization()(conv1)\n",
    "    conv1 = keras.layers.ReLU()(conv1)\n",
    "    #max_pool_1d = tf.keras.layers.MaxPooling1D(pool_size=2,strides=1, padding='valid')\n",
    "\n",
    "    conv2 = keras.layers.Conv1D(filters=64, kernel_size=3, padding=\"same\")(conv1)\n",
    "    conv2 = keras.layers.BatchNormalization()(conv2)\n",
    "    conv2 = keras.layers.ReLU()(conv2)\n",
    "\n",
    "    conv3 = keras.layers.Conv1D(filters=64, kernel_size=3, padding=\"same\")(conv2)\n",
    "    conv3 = keras.layers.BatchNormalization()(conv3)\n",
    "    conv3 = keras.layers.ReLU()(conv3)\n",
    "\n",
    "    #gap = keras.layers.GlobalAveragePooling1D()(conv3)\n",
    "    output_layer = tf.keras.layers.LSTM()(conv3)\n",
    "    #output_layer = lstm(conv3)\n",
    "    #output_layer = keras.layers.Dense(num_classes, activation=\"softmax\")()\n",
    "\n",
    "    return keras.models.Model(inputs=input_layer, outputs=output_layer)"
   ]
  },
  {
   "cell_type": "code",
   "execution_count": 34,
   "id": "4ce2521a",
   "metadata": {},
   "outputs": [
    {
     "name": "stderr",
     "output_type": "stream",
     "text": [
      "2023-06-16 09:13:07.167367: I tensorflow/core/common_runtime/executor.cc:1197] [/device:CPU:0] (DEBUG INFO) Executor start aborting (this does not indicate an error and you can ignore this message): INVALID_ARGUMENT: You must feed a value for placeholder tensor 'gradients/split_2_grad/concat/split_2/split_dim' with dtype int32\n",
      "\t [[{{node gradients/split_2_grad/concat/split_2/split_dim}}]]\n",
      "2023-06-16 09:13:07.168229: I tensorflow/core/common_runtime/executor.cc:1197] [/device:CPU:0] (DEBUG INFO) Executor start aborting (this does not indicate an error and you can ignore this message): INVALID_ARGUMENT: You must feed a value for placeholder tensor 'gradients/split_grad/concat/split/split_dim' with dtype int32\n",
      "\t [[{{node gradients/split_grad/concat/split/split_dim}}]]\n",
      "2023-06-16 09:13:07.168998: I tensorflow/core/common_runtime/executor.cc:1197] [/device:CPU:0] (DEBUG INFO) Executor start aborting (this does not indicate an error and you can ignore this message): INVALID_ARGUMENT: You must feed a value for placeholder tensor 'gradients/split_1_grad/concat/split_1/split_dim' with dtype int32\n",
      "\t [[{{node gradients/split_1_grad/concat/split_1/split_dim}}]]\n"
     ]
    }
   ],
   "source": [
    "model = make_model(input_shape=test_xs.shape[1:])\n",
    "keras.utils.plot_model(model, show_shapes=True)\n",
    "epochs = 1\n",
    "batch_size = 256"
   ]
  },
  {
   "cell_type": "code",
   "execution_count": 24,
   "id": "0e8ffd10",
   "metadata": {},
   "outputs": [
    {
     "name": "stderr",
     "output_type": "stream",
     "text": [
      "2023-06-16 09:12:28.463338: I tensorflow/core/common_runtime/executor.cc:1197] [/device:CPU:0] (DEBUG INFO) Executor start aborting (this does not indicate an error and you can ignore this message): INVALID_ARGUMENT: You must feed a value for placeholder tensor 'gradients/split_2_grad/concat/split_2/split_dim' with dtype int32\n",
      "\t [[{{node gradients/split_2_grad/concat/split_2/split_dim}}]]\n",
      "2023-06-16 09:12:28.464215: I tensorflow/core/common_runtime/executor.cc:1197] [/device:CPU:0] (DEBUG INFO) Executor start aborting (this does not indicate an error and you can ignore this message): INVALID_ARGUMENT: You must feed a value for placeholder tensor 'gradients/split_grad/concat/split/split_dim' with dtype int32\n",
      "\t [[{{node gradients/split_grad/concat/split/split_dim}}]]\n",
      "2023-06-16 09:12:28.465199: I tensorflow/core/common_runtime/executor.cc:1197] [/device:CPU:0] (DEBUG INFO) Executor start aborting (this does not indicate an error and you can ignore this message): INVALID_ARGUMENT: You must feed a value for placeholder tensor 'gradients/split_1_grad/concat/split_1/split_dim' with dtype int32\n",
      "\t [[{{node gradients/split_1_grad/concat/split_1/split_dim}}]]\n",
      "2023-06-16 09:12:29.088398: I tensorflow/core/common_runtime/executor.cc:1197] [/device:CPU:0] (DEBUG INFO) Executor start aborting (this does not indicate an error and you can ignore this message): INVALID_ARGUMENT: You must feed a value for placeholder tensor 'gradients/split_2_grad/concat/split_2/split_dim' with dtype int32\n",
      "\t [[{{node gradients/split_2_grad/concat/split_2/split_dim}}]]\n",
      "2023-06-16 09:12:29.089672: I tensorflow/core/common_runtime/executor.cc:1197] [/device:CPU:0] (DEBUG INFO) Executor start aborting (this does not indicate an error and you can ignore this message): INVALID_ARGUMENT: You must feed a value for placeholder tensor 'gradients/split_grad/concat/split/split_dim' with dtype int32\n",
      "\t [[{{node gradients/split_grad/concat/split/split_dim}}]]\n",
      "2023-06-16 09:12:29.090415: I tensorflow/core/common_runtime/executor.cc:1197] [/device:CPU:0] (DEBUG INFO) Executor start aborting (this does not indicate an error and you can ignore this message): INVALID_ARGUMENT: You must feed a value for placeholder tensor 'gradients/split_1_grad/concat/split_1/split_dim' with dtype int32\n",
      "\t [[{{node gradients/split_1_grad/concat/split_1/split_dim}}]]\n"
     ]
    },
    {
     "name": "stdout",
     "output_type": "stream",
     "text": [
      "292/294 [============================>.] - ETA: 0s - loss: 0.6434 - sparse_categorical_accuracy: 0.6968"
     ]
    },
    {
     "name": "stderr",
     "output_type": "stream",
     "text": [
      "2023-06-16 09:12:32.695483: I tensorflow/core/common_runtime/executor.cc:1197] [/device:CPU:0] (DEBUG INFO) Executor start aborting (this does not indicate an error and you can ignore this message): INVALID_ARGUMENT: You must feed a value for placeholder tensor 'gradients/split_2_grad/concat/split_2/split_dim' with dtype int32\n",
      "\t [[{{node gradients/split_2_grad/concat/split_2/split_dim}}]]\n",
      "2023-06-16 09:12:32.696581: I tensorflow/core/common_runtime/executor.cc:1197] [/device:CPU:0] (DEBUG INFO) Executor start aborting (this does not indicate an error and you can ignore this message): INVALID_ARGUMENT: You must feed a value for placeholder tensor 'gradients/split_grad/concat/split/split_dim' with dtype int32\n",
      "\t [[{{node gradients/split_grad/concat/split/split_dim}}]]\n",
      "2023-06-16 09:12:32.697314: I tensorflow/core/common_runtime/executor.cc:1197] [/device:CPU:0] (DEBUG INFO) Executor start aborting (this does not indicate an error and you can ignore this message): INVALID_ARGUMENT: You must feed a value for placeholder tensor 'gradients/split_1_grad/concat/split_1/split_dim' with dtype int32\n",
      "\t [[{{node gradients/split_1_grad/concat/split_1/split_dim}}]]\n"
     ]
    },
    {
     "name": "stdout",
     "output_type": "stream",
     "text": [
      "\b\b\b\b\b\b\b\b\b\b\b\b\b\b\b\b\b\b\b\b\b\b\b\b\b\b\b\b\b\b\b\b\b\b\b\b\b\b\b\b\b\b\b\b\b\b\b\b\b\b\b\b\b\b\b\b\b\b\b\b\b\b\b\b\b\b\b\b\b\b\b\b\b\b\b\b\b\b\b\b\b\b\b\b\b\b\b\b\b\b\b\b\b\b\b\b\b\b\b\b\b\b\b\r",
      "294/294 [==============================] - 5s 11ms/step - loss: 0.6417 - sparse_categorical_accuracy: 0.6976 - val_loss: 1.1216 - val_sparse_categorical_accuracy: 0.4676 - lr: 0.0010\n"
     ]
    }
   ],
   "source": [
    "callbacks = [\n",
    "    keras.callbacks.ModelCheckpoint(\n",
    "        \"best_model_lstm.h5\", save_best_only=True, monitor=\"val_loss\"\n",
    "    ),\n",
    "    keras.callbacks.ReduceLROnPlateau(\n",
    "        monitor=\"val_loss\", factor=0.5, patience=20, min_lr=0.0001\n",
    "    ),\n",
    "    keras.callbacks.EarlyStopping(monitor=\"val_loss\", patience=50, verbose=1),\n",
    "]\n",
    "model.compile(\n",
    "    optimizer=\"adam\",\n",
    "    loss=\"sparse_categorical_crossentropy\",\n",
    "    metrics=[\"sparse_categorical_accuracy\"],\n",
    ")\n",
    "history = model.fit(\n",
    "    train_xs,\n",
    "    train_ys,\n",
    "    batch_size=batch_size,\n",
    "    epochs=epochs,\n",
    "    callbacks=callbacks,\n",
    "    validation_split=0.2,\n",
    "    verbose=1,\n",
    ")"
   ]
  },
  {
   "cell_type": "code",
   "execution_count": 10,
   "id": "e4e27046",
   "metadata": {},
   "outputs": [],
   "source": [
    "#model = keras.models.load_model(\"best_model.h5\")"
   ]
  },
  {
   "cell_type": "code",
   "execution_count": 11,
   "id": "6d6c486b",
   "metadata": {},
   "outputs": [
    {
     "name": "stdout",
     "output_type": "stream",
     "text": [
      "110/684 [===>..........................] - ETA: 0s"
     ]
    },
    {
     "name": "stderr",
     "output_type": "stream",
     "text": [
      "2023-06-16 08:44:27.411368: I tensorflow/core/common_runtime/executor.cc:1197] [/device:CPU:0] (DEBUG INFO) Executor start aborting (this does not indicate an error and you can ignore this message): INVALID_ARGUMENT: You must feed a value for placeholder tensor 'gradients/split_2_grad/concat/split_2/split_dim' with dtype int32\n",
      "\t [[{{node gradients/split_2_grad/concat/split_2/split_dim}}]]\n",
      "2023-06-16 08:44:27.412454: I tensorflow/core/common_runtime/executor.cc:1197] [/device:CPU:0] (DEBUG INFO) Executor start aborting (this does not indicate an error and you can ignore this message): INVALID_ARGUMENT: You must feed a value for placeholder tensor 'gradients/split_grad/concat/split/split_dim' with dtype int32\n",
      "\t [[{{node gradients/split_grad/concat/split/split_dim}}]]\n",
      "2023-06-16 08:44:27.413115: I tensorflow/core/common_runtime/executor.cc:1197] [/device:CPU:0] (DEBUG INFO) Executor start aborting (this does not indicate an error and you can ignore this message): INVALID_ARGUMENT: You must feed a value for placeholder tensor 'gradients/split_1_grad/concat/split_1/split_dim' with dtype int32\n",
      "\t [[{{node gradients/split_1_grad/concat/split_1/split_dim}}]]\n"
     ]
    },
    {
     "name": "stdout",
     "output_type": "stream",
     "text": [
      "684/684 [==============================] - 1s 879us/step\n"
     ]
    }
   ],
   "source": [
    "predict_ys = model.predict(test_xs)"
   ]
  },
  {
   "cell_type": "code",
   "execution_count": 39,
   "id": "bb291c1c",
   "metadata": {},
   "outputs": [
    {
     "name": "stdout",
     "output_type": "stream",
     "text": [
      "(25200,)\n"
     ]
    }
   ],
   "source": [
    "predictions = np.argmax(predict_ys, axis = 1)\n",
    "predictions_score = np.argmax(predict_ys, axis = 1) * np.max(predict_ys, axis = 1) / np.sum(predict_ys, axis=1)\n",
    "print(predictions_score.shape)"
   ]
  },
  {
   "cell_type": "code",
   "execution_count": 20,
   "id": "d947fd7f",
   "metadata": {},
   "outputs": [
    {
     "data": {
      "image/png": "[encoded data removed]",
      "text/plain": [
       "<Figure size 640x480 with 2 Axes>"
      ]
     },
     "metadata": {},
     "output_type": "display_data"
    }
   ],
   "source": [
    "fig,axs = plt.subplots(1,2)\n",
    "fpr,tpr,thr = roc_curve(y_true = test_ys, y_score = predictions_score,pos_label=1)\n",
    "axs[0].plot(fpr,tpr)\n",
    "#pre,rec,thr = precision_recall_curve(y_true = prdf['y-true'], probas_pred = prdf['y-score'], pos_label = 1)\n",
    "#axs[1].plot(rec,pre)\n",
    "plt.show()"
   ]
  },
  {
   "cell_type": "code",
   "execution_count": 21,
   "id": "f0254f7e",
   "metadata": {},
   "outputs": [
    {
     "data": {
      "image/png": "[encoded data removed]",
      "text/plain": [
       "<Figure size 500x400 with 2 Axes>"
      ]
     },
     "metadata": {},
     "output_type": "display_data"
    }
   ],
   "source": [
    "CM = confusion_matrix(test_ys,predictions,normalize='true')\n",
    "accuracy_metrics = CM.ravel()\n",
    "\n",
    "TN = accuracy_metrics[0]\n",
    "FP = accuracy_metrics[1]\n",
    "FN = accuracy_metrics[2]\n",
    "TP = accuracy_metrics[3]\n",
    "\n",
    "fig,(ax,cax) = plt.subplots(1,2,figsize=(5,4),gridspec_kw={'width_ratios':[10,1]})\n",
    "im = ax.imshow(CM,vmin=0.,vmax=1.,cmap = 'copper',aspect='auto')\n",
    "    \n",
    "ax.set_xticks([0,1])\n",
    "ax.set_xticklabels(['Not Fall','Fall'])\n",
    "ax.set_xlabel('Predicted class')\n",
    "ax.tick_params(top=True, labeltop=True, bottom=False, labelbottom=False)\n",
    "ax.xaxis.set_label_position('top')\n",
    "    \n",
    "ax.set_yticks([0,1])\n",
    "ax.set_yticklabels(['Not Fall','Fall'])\n",
    "ax.set_ylabel('True class')\n",
    "    \n",
    "cbar = fig.colorbar(im, cax = cax)\n",
    "    \n",
    "fig.tight_layout()\n",
    "plt.show()"
   ]
  },
  {
   "cell_type": "code",
   "execution_count": 22,
   "id": "ab9813c0",
   "metadata": {},
   "outputs": [
    {
     "data": {
      "image/png": "[encoded data removed]",
      "text/plain": [
       "<Figure size 640x480 with 2 Axes>"
      ]
     },
     "metadata": {},
     "output_type": "display_data"
    }
   ],
   "source": [
    "time = np.arange(test_xs.shape[0])\n",
    "#tn, fp, fn, tp = confusion_matrix(test_ys.flatten(), np.amax(predictions.flatten(), axis=0).ravel())\n",
    "\n",
    "# performance_metric, number in zip(('True Negatives','False Positives','False Negatives','True Positives'),(tn, fp, fn, tp)):\n",
    " #   print('{}: {}'.format(performance_metric,number))\n",
    "fig, (ax1,ax2) = plt.subplots(2,1,sharex=True)\n",
    "time = np.arange(len(test_xs))\n",
    "ax1.plot(time, test_ys.flatten(), label='True')\n",
    "#ax2.plot(time, [p_category]/scaling_factor, label='Predicted')\n",
    "ax2.plot(time, predictions.flatten(), color=\"orange\", label = 'Predicted')\n",
    "ax1.legend()\n",
    "ax2.legend()\n",
    "plt.show()"
   ]
  },
  {
   "cell_type": "code",
   "execution_count": null,
   "id": "3c9c08dc",
   "metadata": {},
   "outputs": [],
   "source": []
  }
 ],
 "metadata": {
  "kernelspec": {
   "display_name": "Python 3 (ipykernel)",
   "language": "python",
   "name": "python3"
  },
  "language_info": {
   "codemirror_mode": {
    "name": "ipython",
    "version": 3
   },
   "file_extension": ".py",
   "mimetype": "text/x-python",
   "name": "python",
   "nbconvert_exporter": "python",
   "pygments_lexer": "ipython3",
   "version": "3.10.6"
  }
 },
 "nbformat": 4,
 "nbformat_minor": 5
}
