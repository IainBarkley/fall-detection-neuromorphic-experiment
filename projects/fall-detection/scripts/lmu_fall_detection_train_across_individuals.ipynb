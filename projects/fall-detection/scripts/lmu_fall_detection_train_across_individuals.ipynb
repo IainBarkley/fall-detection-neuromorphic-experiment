{
 "cells": [
  {
   "cell_type": "code",
   "execution_count": 1,
   "id": "77e3d438",
   "metadata": {},
   "outputs": [],
   "source": [
    "from sklearn.metrics import confusion_matrix\n",
    "\n",
    "import matplotlib.pyplot as plt\n",
    "import pandas as pd\n",
    "import numpy as np\n",
    "import sys,os\n",
    "import nengo\n",
    "\n",
    "sys.path.insert(0,'../networks')\n",
    "from ldn import LDN\n",
    "\n",
    "sys.path.insert(0,'../')\n",
    "from utilities import generate_train_test_split"
   ]
  },
  {
   "cell_type": "code",
   "execution_count": 23,
   "id": "0459f7d5",
   "metadata": {},
   "outputs": [],
   "source": [
    "data_dir = '../fall_detection_data/not_merged_processed/'\n",
    "\n",
    "# training dataset parameters\n",
    "train_test_split = 0.05\n",
    "chunk_size = 3600\n",
    "\n",
    "# simulation parameters\n",
    "scaling_factor = 100\n",
    "dt = 0.001\n",
    "\n",
    "# LDN parameters\n",
    "size_in = 3         # 9 features of the fall detection data\n",
    "theta = 1.\n",
    "q = 42\n",
    "\n",
    "# prediction parameters\n",
    "decision_threshold = 0.5\n",
    "test_on_train = True"
   ]
  },
  {
   "cell_type": "code",
   "execution_count": 24,
   "id": "d451bfb7",
   "metadata": {},
   "outputs": [
    {
     "name": "stdout",
     "output_type": "stream",
     "text": [
      "req. train trials:  253\n",
      "unique train trials:  253\n",
      "-----------------------------\n",
      "act. test trials:  4822\n",
      "unique test trials:  4822\n",
      "-----------------------------\n",
      "all trials:  5075\n",
      "train+test trials:  5075\n",
      "all/test overlap:  4822\n"
     ]
    }
   ],
   "source": [
    "all_trials = list(set( [f for f in os.listdir(data_dir) if \".csv\" in f] ))\n",
    "train_trials = np.random.choice(all_trials,size = int( len(all_trials)*train_test_split), replace=False ).flatten().tolist()\n",
    "test_trials = [e for e in all_trials if e not in train_trials]\n",
    "\n",
    "print('req. train trials: ', int( len(all_trials)*train_test_split))\n",
    "print('unique train trials: ', len(set(train_trials)))\n",
    "print('-----------------------------')\n",
    "print('act. test trials: ', len(test_trials))\n",
    "print('unique test trials: ', len(set(test_trials)))\n",
    "print('-----------------------------')\n",
    "print('all trials: ', len(all_trials))\n",
    "print('train+test trials: ', len(test_trials)+len(train_trials))\n",
    "print('all/test overlap: ', len(list(set(all_trials).intersection(test_trials))))\n",
    "\n",
    "train_df = pd.DataFrame()\n",
    "for train_trial in train_trials:\n",
    "    temp_df = pd.read_csv(os.path.join(data_dir,train_trial),index_col=0)\n",
    "    train_df = pd.concat([train_df,temp_df],axis=0,ignore_index=True)\n",
    "    \n",
    "#train_xs = train_df[['AccX','AccY','AccZ','GyrX','GyrY','GyrZ','EulerX','EulerY','EulerZ']].to_numpy()\n",
    "train_xs = train_df[['AccX','AccY','AccZ']].to_numpy()\n",
    "lmu_train_xs = LDN(theta=theta, q=q, size_in=size_in).apply(train_xs)\n",
    "train_ys = train_df[['Fall/No Fall']].to_numpy() * scaling_factor\n",
    "\n",
    "if test_on_train == True:\n",
    "    test_xs = train_xs\n",
    "    test_ys = train_ys\n",
    "else:\n",
    "    pass"
   ]
  },
  {
   "cell_type": "code",
   "execution_count": 25,
   "id": "769f71d8",
   "metadata": {},
   "outputs": [],
   "source": [
    "model = nengo.Network()\n",
    "with model:\n",
    "\n",
    "    def stim_func(t):\n",
    "        index = int(t/dt)-1\n",
    "        return test_xs[index,:]\n",
    "        \n",
    "    stim = nengo.Node( size_out = size_in, output = stim_func )\n",
    "    \n",
    "    ldn = nengo.Node( LDN( theta = theta, q = q, size_in = size_in))\n",
    "    nengo.Connection(stim, ldn, synapse=None)\n",
    "    \n",
    "    neurons = nengo.Ensemble(n_neurons=1000, dimensions=q*size_in, neuron_type=nengo.RectifiedLinear())\n",
    "    nengo.Connection(ldn, neurons)\n",
    "    \n",
    "    # initialize the network with the training data\n",
    "    category = nengo.Ensemble(n_neurons=1000,dimensions=1,radius=scaling_factor)\n",
    "    nengo.Connection(neurons, category, eval_points=lmu_train_xs, function=train_ys)\n",
    "    \n",
    "    p_stim = nengo.Probe(stim)\n",
    "    p_ldn = nengo.Probe(ldn)\n",
    "    p_category = nengo.Probe(category, synapse=0.01)"
   ]
  },
  {
   "cell_type": "code",
   "execution_count": 26,
   "id": "68eaff56",
   "metadata": {
    "scrolled": true
   },
   "outputs": [
    {
     "data": {
      "application/vdom.v1+json": {
       "attributes": {},
       "tagName": "div"
      },
      "text/html": [
       "\n",
       "                <script>\n",
       "                    if (Jupyter.version.split(\".\")[0] < 5) {\n",
       "                        var pb = document.getElementById(\"4eda5e65-68d6-4d3c-aa81-efe438259b4a\");\n",
       "                        var text = document.createTextNode(\n",
       "                            \"HMTL progress bar requires Jupyter Notebook >= \" +\n",
       "                            \"5.0 or Jupyter Lab. Alternatively, you can use \" +\n",
       "                            \"TerminalProgressBar().\");\n",
       "                        pb.parentNode.insertBefore(text, pb);\n",
       "                    }\n",
       "                </script>\n",
       "                <div id=\"4eda5e65-68d6-4d3c-aa81-efe438259b4a\" style=\"\n",
       "                    width: 100%;\n",
       "                    border: 1px solid #cfcfcf;\n",
       "                    border-radius: 4px;\n",
       "                    text-align: center;\n",
       "                    position: relative;\">\n",
       "                  <div class=\"pb-text\" style=\"\n",
       "                      position: absolute;\n",
       "                      width: 100%;\">\n",
       "                    0%\n",
       "                  </div>\n",
       "                  <div class=\"pb-fill\" style=\"\n",
       "                      background-color: #bdd2e6;\n",
       "                      width: 0%;\">\n",
       "                    <style type=\"text/css\" scoped=\"scoped\">\n",
       "                        @keyframes pb-fill-anim {\n",
       "                            0% { background-position: 0 0; }\n",
       "                            100% { background-position: 100px 0; }\n",
       "                        }\n",
       "                    </style>\n",
       "                    &nbsp;\n",
       "                  </div>\n",
       "                </div>"
      ],
      "text/plain": [
       "HtmlProgressBar cannot be displayed. Please use the TerminalProgressBar. It can be enabled with `nengo.rc['progress']['progress_bar'] = 'nengo.utils.progress.TerminalProgressBar'`."
      ]
     },
     "metadata": {},
     "output_type": "display_data"
    },
    {
     "data": {
      "application/vdom.v1+json": {
       "attributes": {
        "id": "a1f727a0-db39-4c76-80ce-a173c06b8534",
        "style": {
         "border": "1px solid #cfcfcf",
         "borderRadius": "4px",
         "boxSizing": "border-box",
         "position": "relative",
         "textAlign": "center",
         "width": "100%"
        }
       },
       "children": [
        {
         "attributes": {
          "class": "pb-text",
          "style": {
           "position": "absolute",
           "width": "100%"
          }
         },
         "children": [
          "Build finished in 0:00:09."
         ],
         "tagName": "div"
        },
        {
         "attributes": {
          "class": "pb-fill",
          "style": {
           "animation": "none",
           "backgroundColor": "#bdd2e6",
           "backgroundImage": "none",
           "backgroundSize": "100px 100%",
           "width": "100%"
          }
         },
         "children": [
          {
           "attributes": {
            "scoped": "scoped",
            "type": "text/css"
           },
           "children": [
            "\n                        @keyframes pb-fill-anim {\n                            0% { background-position: 0 0; }\n                            100% { background-position: 100px 0; }\n                        }}"
           ],
           "tagName": "style"
          },
          " "
         ],
         "tagName": "div"
        }
       ],
       "tagName": "div"
      },
      "text/html": [
       "<script>\n",
       "              (function () {\n",
       "                  var root = document.getElementById('4eda5e65-68d6-4d3c-aa81-efe438259b4a');\n",
       "                  var text = root.getElementsByClassName('pb-text')[0];\n",
       "                  var fill = root.getElementsByClassName('pb-fill')[0];\n",
       "\n",
       "                  text.innerHTML = 'Build finished in 0:00:09.';\n",
       "                  \n",
       "            fill.style.width = '100%';\n",
       "            fill.style.animation = 'pb-fill-anim 2s linear infinite';\n",
       "            fill.style.backgroundSize = '100px 100%';\n",
       "            fill.style.backgroundImage = 'repeating-linear-gradient(' +\n",
       "                '90deg, #bdd2e6, #edf2f8 40%, #bdd2e6 80%, #bdd2e6)';\n",
       "        \n",
       "                  \n",
       "                fill.style.animation = 'none';\n",
       "                fill.style.backgroundImage = 'none';\n",
       "            \n",
       "              })();\n",
       "        </script>"
      ]
     },
     "metadata": {},
     "output_type": "display_data"
    },
    {
     "data": {
      "application/vdom.v1+json": {
       "attributes": {},
       "tagName": "div"
      },
      "text/html": [
       "\n",
       "                <script>\n",
       "                    if (Jupyter.version.split(\".\")[0] < 5) {\n",
       "                        var pb = document.getElementById(\"71e1ad64-cfd7-4374-a2ac-567ab743cafa\");\n",
       "                        var text = document.createTextNode(\n",
       "                            \"HMTL progress bar requires Jupyter Notebook >= \" +\n",
       "                            \"5.0 or Jupyter Lab. Alternatively, you can use \" +\n",
       "                            \"TerminalProgressBar().\");\n",
       "                        pb.parentNode.insertBefore(text, pb);\n",
       "                    }\n",
       "                </script>\n",
       "                <div id=\"71e1ad64-cfd7-4374-a2ac-567ab743cafa\" style=\"\n",
       "                    width: 100%;\n",
       "                    border: 1px solid #cfcfcf;\n",
       "                    border-radius: 4px;\n",
       "                    text-align: center;\n",
       "                    position: relative;\">\n",
       "                  <div class=\"pb-text\" style=\"\n",
       "                      position: absolute;\n",
       "                      width: 100%;\">\n",
       "                    0%\n",
       "                  </div>\n",
       "                  <div class=\"pb-fill\" style=\"\n",
       "                      background-color: #bdd2e6;\n",
       "                      width: 0%;\">\n",
       "                    <style type=\"text/css\" scoped=\"scoped\">\n",
       "                        @keyframes pb-fill-anim {\n",
       "                            0% { background-position: 0 0; }\n",
       "                            100% { background-position: 100px 0; }\n",
       "                        }\n",
       "                    </style>\n",
       "                    &nbsp;\n",
       "                  </div>\n",
       "                </div>"
      ],
      "text/plain": [
       "HtmlProgressBar cannot be displayed. Please use the TerminalProgressBar. It can be enabled with `nengo.rc['progress']['progress_bar'] = 'nengo.utils.progress.TerminalProgressBar'`."
      ]
     },
     "metadata": {},
     "output_type": "display_data"
    },
    {
     "data": {
      "application/vdom.v1+json": {
       "attributes": {
        "id": "26c29a16-e311-49c9-9330-f8df6370e0b8",
        "style": {
         "border": "1px solid #cfcfcf",
         "borderRadius": "4px",
         "boxSizing": "border-box",
         "position": "relative",
         "textAlign": "center",
         "width": "100%"
        }
       },
       "children": [
        {
         "attributes": {
          "class": "pb-text",
          "style": {
           "position": "absolute",
           "width": "100%"
          }
         },
         "children": [
          "Simulation finished in 0:00:53."
         ],
         "tagName": "div"
        },
        {
         "attributes": {
          "class": "pb-fill",
          "style": {
           "animation": "none",
           "backgroundColor": "#bdd2e6",
           "backgroundImage": "none",
           "transition": "width 0.1s linear",
           "width": "100%"
          }
         },
         "children": [
          {
           "attributes": {
            "scoped": "scoped",
            "type": "text/css"
           },
           "children": [
            "\n                        @keyframes pb-fill-anim {\n                            0% { background-position: 0 0; }\n                            100% { background-position: 100px 0; }\n                        }}"
           ],
           "tagName": "style"
          },
          " "
         ],
         "tagName": "div"
        }
       ],
       "tagName": "div"
      },
      "text/html": [
       "<script>\n",
       "              (function () {\n",
       "                  var root = document.getElementById('71e1ad64-cfd7-4374-a2ac-567ab743cafa');\n",
       "                  var text = root.getElementsByClassName('pb-text')[0];\n",
       "                  var fill = root.getElementsByClassName('pb-fill')[0];\n",
       "\n",
       "                  text.innerHTML = 'Simulation finished in 0:00:53.';\n",
       "                  \n",
       "            if (100.0 > 0.) {\n",
       "                fill.style.transition = 'width 0.1s linear';\n",
       "            } else {\n",
       "                fill.style.transition = 'none';\n",
       "            }\n",
       "\n",
       "            fill.style.width = '100.0%';\n",
       "            fill.style.animation = 'none';\n",
       "            fill.style.backgroundImage = 'none'\n",
       "        \n",
       "                  \n",
       "                fill.style.animation = 'none';\n",
       "                fill.style.backgroundImage = 'none';\n",
       "            \n",
       "              })();\n",
       "        </script>"
      ]
     },
     "metadata": {},
     "output_type": "display_data"
    }
   ],
   "source": [
    "sim = nengo.Simulator(model,dt=dt)\n",
    "with sim:\n",
    "    sim.run(test_xs.shape[0]*dt)"
   ]
  },
  {
   "cell_type": "code",
   "execution_count": 27,
   "id": "ddc07c07",
   "metadata": {},
   "outputs": [
    {
     "data": {
      "image/png": "[encoded data removed]",
      "text/plain": [
       "<Figure size 640x480 with 1 Axes>"
      ]
     },
     "metadata": {},
     "output_type": "display_data"
    },
    {
     "name": "stdout",
     "output_type": "stream",
     "text": [
      "True Negatives: 186171\n",
      "False Positives: 8295\n",
      "False Negatives: 5765\n",
      "True Positives: 1881\n",
      "Sensitivity: 24.6%\n",
      "Specificity: 95.73%\n"
     ]
    },
    {
     "data": {
      "image/png": "[encoded data removed]",
      "text/plain": [
       "<Figure size 1200x300 with 2 Axes>"
      ]
     },
     "metadata": {},
     "output_type": "display_data"
    }
   ],
   "source": [
    "from sklearn.metrics import roc_curve\n",
    "scores = sim.data[p_category].flatten() / np.max(sim.data[p_category].flatten())\n",
    "neg_vals = scores < 0\n",
    "scores[neg_vals] = 0\n",
    "fpr,tpr,thresholds = roc_curve(y_true = (test_ys/scaling_factor).astype(int),y_score = scores)\n",
    "\n",
    "fig,ax = plt.subplots(1,1)\n",
    "ax.plot(fpr,tpr)\n",
    "plt.show()\n",
    "\n",
    "predictions = np.where(sim.data[p_category].flatten() > np.max(sim.data[p_category].flatten())*0.5, 1, 0)    \n",
    "tn, fp, fn, tp = confusion_matrix( (test_ys/scaling_factor).astype(int), predictions ).ravel()\n",
    "    \n",
    "for performance_metric, number in zip(('True Negatives','False Positives','False Negatives','True Positives'),(tn, fp, fn, tp)):\n",
    "    print('{}: {}'.format(performance_metric,number))\n",
    "    \n",
    "sensitivity = tp / (tp+fn)\n",
    "specificity = tn / (tn+fp)\n",
    "print('Sensitivity: {}%'.format(round(sensitivity*100,2)))\n",
    "print('Specificity: {}%'.format(round(specificity*100,2)))\n",
    "    \n",
    "fig,(ax1,ax2) = plt.subplots(2,1,sharex=True,figsize=(12,3))\n",
    "ax1.plot(sim.trange(), test_ys.flatten()/scaling_factor, label='True')\n",
    "ax2.plot(sim.trange(), sim.data[p_category]/scaling_factor)\n",
    "ax2.plot(sim.trange(), predictions, label='Predicted')\n",
    "\n",
    "ax1.legend()\n",
    "ax2.legend()\n",
    "plt.show()    "
   ]
  }
 ],
 "metadata": {
  "kernelspec": {
   "display_name": "Python 3 (ipykernel)",
   "language": "python",
   "name": "python3"
  },
  "language_info": {
   "codemirror_mode": {
    "name": "ipython",
    "version": 3
   },
   "file_extension": ".py",
   "mimetype": "text/x-python",
   "name": "python",
   "nbconvert_exporter": "python",
   "pygments_lexer": "ipython3",
   "version": "3.9.13"
  }
 },
 "nbformat": 4,
 "nbformat_minor": 5
}
