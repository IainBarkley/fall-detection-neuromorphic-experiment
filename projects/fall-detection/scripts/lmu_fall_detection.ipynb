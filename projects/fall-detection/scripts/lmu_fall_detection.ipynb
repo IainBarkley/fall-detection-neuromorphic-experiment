{
 "cells": [
  {
   "cell_type": "code",
   "execution_count": 33,
   "id": "77e3d438",
   "metadata": {},
   "outputs": [],
   "source": [
    "from sklearn.metrics import confusion_matrix\n",
    "\n",
    "import matplotlib.pyplot as plt\n",
    "import pandas as pd\n",
    "import numpy as np\n",
    "import sys,os\n",
    "import nengo\n",
    "\n",
    "sys.path.insert(0,'../networks')\n",
    "from ldn import LDN\n",
    "\n",
    "sys.path.insert(0,'../')\n",
    "from utilities import generate_train_test_split"
   ]
  },
  {
   "cell_type": "code",
   "execution_count": 34,
   "id": "0459f7d5",
   "metadata": {},
   "outputs": [],
   "source": [
    "data_dir = '../fall_detection_data/merged_processed/'\n",
    "subject_file = 'SA06-merged.csv'\n",
    "\n",
    "# LDN parameters\n",
    "size_in = 9         # 9 features of the fall detection data\n",
    "theta = 1.\n",
    "q = 42\n",
    "\n",
    "# simulation parameters\n",
    "dt = 0.001\n",
    "\n",
    "# training dataset parameters\n",
    "train_test_split = 0.5\n",
    "chunk_size = 3600\n",
    "scaling_factor = 100\n",
    "\n",
    "# prediction parameters\n",
    "decision_threshold = 0.5\n",
    "test_on_train = False"
   ]
  },
  {
   "cell_type": "code",
   "execution_count": 35,
   "id": "d451bfb7",
   "metadata": {},
   "outputs": [
    {
     "name": "stderr",
     "output_type": "stream",
     "text": [
      "C:\\Users\\Kathryn\\AppData\\Local\\Temp\\ipykernel_10772\\3737410898.py:2: DtypeWarning: Columns (13) have mixed types. Specify dtype option on import or set low_memory=False.\n",
      "  ddf = pd.read_csv(os.path.join(data_dir,subject_file),index_col=0).drop(['TimeStamp(s)','FrameCounter'],axis=1)\n"
     ]
    }
   ],
   "source": [
    "# load data and generate the train/test split\n",
    "ddf = pd.read_csv(os.path.join(data_dir,subject_file),index_col=0).drop(['TimeStamp(s)','FrameCounter'],axis=1)\n",
    "\n",
    "chunk_indices = np.arange(0,ddf.shape[0],chunk_size)\n",
    "train_chunk_indices = np.random.choice(chunk_indices,size = int(len(chunk_indices)*train_test_split))\n",
    "test_chunk_indices = list(set(chunk_indices)-set(train_chunk_indices))\n",
    "\n",
    "train_df = pd.DataFrame(columns=ddf.columns)\n",
    "for idx in train_chunk_indices:\n",
    "    train_df = pd.concat([train_df,ddf.iloc[idx:idx+chunk_size,:]],axis=0)\n",
    "\n",
    "test_df = pd.DataFrame(columns=ddf.columns)\n",
    "for idx in test_chunk_indices:\n",
    "    test_df = pd.concat([test_df,ddf.iloc[idx:idx+chunk_size,:]],axis=0)\n",
    "\n",
    "train_xs = train_df[['AccX','AccY','AccZ','GyrX','GyrY','GyrZ','EulerX','EulerY','EulerZ']].to_numpy()\n",
    "lmu_train_xs = LDN(theta=theta, q=q, size_in=size_in).apply(train_xs)\n",
    "train_ys = ( train_df[['Fall/No Fall']].to_numpy() * scaling_factor ).astype(int)\n",
    "\n",
    "if test_on_train == True:\n",
    "    test_xs = train_xs\n",
    "    test_ys = train_ys\n",
    "else:\n",
    "    test_xs = test_df[['AccX','AccY','AccZ','GyrX','GyrY','GyrZ','EulerX','EulerY','EulerZ']].to_numpy()\n",
    "    test_ys = test_df[['Fall/No Fall']].to_numpy() * scaling_factor\n"
   ]
  },
  {
   "cell_type": "code",
   "execution_count": 36,
   "id": "769f71d8",
   "metadata": {},
   "outputs": [],
   "source": [
    "model = nengo.Network()\n",
    "with model:\n",
    "\n",
    "    def stim_func(t):\n",
    "        index = int(t/dt)-1\n",
    "        return test_xs[index,:]\n",
    "        \n",
    "    stim = nengo.Node( size_out = size_in, output = stim_func )\n",
    "    \n",
    "    ldn = nengo.Node( LDN( theta = theta, q = q, size_in = size_in))\n",
    "    nengo.Connection(stim, ldn, synapse=None)\n",
    "    \n",
    "    neurons = nengo.Ensemble(n_neurons=1000, dimensions=q*size_in, neuron_type=nengo.LIFRate())\n",
    "    nengo.Connection(ldn, neurons)\n",
    "    \n",
    "    # initialize the network with the training data\n",
    "    category = nengo.Ensemble(n_neurons=1000,dimensions=1,radius=scaling_factor)\n",
    "    nengo.Connection(neurons, category, eval_points=lmu_train_xs, function=train_ys)\n",
    "    \n",
    "    p_stim = nengo.Probe(stim)\n",
    "    p_ldn = nengo.Probe(ldn)\n",
    "    p_category = nengo.Probe(category, synapse=0.01)"
   ]
  },
  {
   "cell_type": "code",
   "execution_count": 39,
   "id": "68eaff56",
   "metadata": {},
   "outputs": [
    {
     "data": {
      "application/vdom.v1+json": {
       "attributes": {},
       "tagName": "div"
      },
      "text/html": [
       "\n",
       "                <script>\n",
       "                    if (Jupyter.version.split(\".\")[0] < 5) {\n",
       "                        var pb = document.getElementById(\"49758565-e384-4b36-9b5d-9a1f9975f7b0\");\n",
       "                        var text = document.createTextNode(\n",
       "                            \"HMTL progress bar requires Jupyter Notebook >= \" +\n",
       "                            \"5.0 or Jupyter Lab. Alternatively, you can use \" +\n",
       "                            \"TerminalProgressBar().\");\n",
       "                        pb.parentNode.insertBefore(text, pb);\n",
       "                    }\n",
       "                </script>\n",
       "                <div id=\"49758565-e384-4b36-9b5d-9a1f9975f7b0\" style=\"\n",
       "                    width: 100%;\n",
       "                    border: 1px solid #cfcfcf;\n",
       "                    border-radius: 4px;\n",
       "                    text-align: center;\n",
       "                    position: relative;\">\n",
       "                  <div class=\"pb-text\" style=\"\n",
       "                      position: absolute;\n",
       "                      width: 100%;\">\n",
       "                    0%\n",
       "                  </div>\n",
       "                  <div class=\"pb-fill\" style=\"\n",
       "                      background-color: #bdd2e6;\n",
       "                      width: 0%;\">\n",
       "                    <style type=\"text/css\" scoped=\"scoped\">\n",
       "                        @keyframes pb-fill-anim {\n",
       "                            0% { background-position: 0 0; }\n",
       "                            100% { background-position: 100px 0; }\n",
       "                        }\n",
       "                    </style>\n",
       "                    &nbsp;\n",
       "                  </div>\n",
       "                </div>"
      ],
      "text/plain": [
       "HtmlProgressBar cannot be displayed. Please use the TerminalProgressBar. It can be enabled with `nengo.rc['progress']['progress_bar'] = 'nengo.utils.progress.TerminalProgressBar'`."
      ]
     },
     "metadata": {},
     "output_type": "display_data"
    },
    {
     "data": {
      "application/vdom.v1+json": {
       "attributes": {
        "id": "d9d53c6d-f9c6-4986-87ef-2050ea842e28",
        "style": {
         "border": "1px solid #cfcfcf",
         "borderRadius": "4px",
         "boxSizing": "border-box",
         "position": "relative",
         "textAlign": "center",
         "width": "100%"
        }
       },
       "children": [
        {
         "attributes": {
          "class": "pb-text",
          "style": {
           "position": "absolute",
           "width": "100%"
          }
         },
         "children": [
          "Build finished in 0:00:05."
         ],
         "tagName": "div"
        },
        {
         "attributes": {
          "class": "pb-fill",
          "style": {
           "animation": "none",
           "backgroundColor": "#bdd2e6",
           "backgroundImage": "none",
           "backgroundSize": "100px 100%",
           "width": "100%"
          }
         },
         "children": [
          {
           "attributes": {
            "scoped": "scoped",
            "type": "text/css"
           },
           "children": [
            "\n                        @keyframes pb-fill-anim {\n                            0% { background-position: 0 0; }\n                            100% { background-position: 100px 0; }\n                        }}"
           ],
           "tagName": "style"
          },
          " "
         ],
         "tagName": "div"
        }
       ],
       "tagName": "div"
      },
      "text/html": [
       "<script>\n",
       "              (function () {\n",
       "                  var root = document.getElementById('49758565-e384-4b36-9b5d-9a1f9975f7b0');\n",
       "                  var text = root.getElementsByClassName('pb-text')[0];\n",
       "                  var fill = root.getElementsByClassName('pb-fill')[0];\n",
       "\n",
       "                  text.innerHTML = 'Build finished in 0:00:05.';\n",
       "                  \n",
       "            fill.style.width = '100%';\n",
       "            fill.style.animation = 'pb-fill-anim 2s linear infinite';\n",
       "            fill.style.backgroundSize = '100px 100%';\n",
       "            fill.style.backgroundImage = 'repeating-linear-gradient(' +\n",
       "                '90deg, #bdd2e6, #edf2f8 40%, #bdd2e6 80%, #bdd2e6)';\n",
       "        \n",
       "                  \n",
       "                fill.style.animation = 'none';\n",
       "                fill.style.backgroundImage = 'none';\n",
       "            \n",
       "              })();\n",
       "        </script>"
      ]
     },
     "metadata": {},
     "output_type": "display_data"
    },
    {
     "data": {
      "application/vdom.v1+json": {
       "attributes": {},
       "tagName": "div"
      },
      "text/html": [
       "\n",
       "                <script>\n",
       "                    if (Jupyter.version.split(\".\")[0] < 5) {\n",
       "                        var pb = document.getElementById(\"e42241e0-cb5d-4767-ac5c-2cd87ae3bbe1\");\n",
       "                        var text = document.createTextNode(\n",
       "                            \"HMTL progress bar requires Jupyter Notebook >= \" +\n",
       "                            \"5.0 or Jupyter Lab. Alternatively, you can use \" +\n",
       "                            \"TerminalProgressBar().\");\n",
       "                        pb.parentNode.insertBefore(text, pb);\n",
       "                    }\n",
       "                </script>\n",
       "                <div id=\"e42241e0-cb5d-4767-ac5c-2cd87ae3bbe1\" style=\"\n",
       "                    width: 100%;\n",
       "                    border: 1px solid #cfcfcf;\n",
       "                    border-radius: 4px;\n",
       "                    text-align: center;\n",
       "                    position: relative;\">\n",
       "                  <div class=\"pb-text\" style=\"\n",
       "                      position: absolute;\n",
       "                      width: 100%;\">\n",
       "                    0%\n",
       "                  </div>\n",
       "                  <div class=\"pb-fill\" style=\"\n",
       "                      background-color: #bdd2e6;\n",
       "                      width: 0%;\">\n",
       "                    <style type=\"text/css\" scoped=\"scoped\">\n",
       "                        @keyframes pb-fill-anim {\n",
       "                            0% { background-position: 0 0; }\n",
       "                            100% { background-position: 100px 0; }\n",
       "                        }\n",
       "                    </style>\n",
       "                    &nbsp;\n",
       "                  </div>\n",
       "                </div>"
      ],
      "text/plain": [
       "HtmlProgressBar cannot be displayed. Please use the TerminalProgressBar. It can be enabled with `nengo.rc['progress']['progress_bar'] = 'nengo.utils.progress.TerminalProgressBar'`."
      ]
     },
     "metadata": {},
     "output_type": "display_data"
    },
    {
     "data": {
      "application/vdom.v1+json": {
       "attributes": {
        "id": "c6d17ce3-b903-4809-a6a2-1e5b5046ea0f",
        "style": {
         "border": "1px solid #cfcfcf",
         "borderRadius": "4px",
         "boxSizing": "border-box",
         "position": "relative",
         "textAlign": "center",
         "width": "100%"
        }
       },
       "children": [
        {
         "attributes": {
          "class": "pb-text",
          "style": {
           "position": "absolute",
           "width": "100%"
          }
         },
         "children": [
          "Simulation finished in 0:00:22."
         ],
         "tagName": "div"
        },
        {
         "attributes": {
          "class": "pb-fill",
          "style": {
           "animation": "none",
           "backgroundColor": "#bdd2e6",
           "backgroundImage": "none",
           "transition": "width 0.1s linear",
           "width": "100%"
          }
         },
         "children": [
          {
           "attributes": {
            "scoped": "scoped",
            "type": "text/css"
           },
           "children": [
            "\n                        @keyframes pb-fill-anim {\n                            0% { background-position: 0 0; }\n                            100% { background-position: 100px 0; }\n                        }}"
           ],
           "tagName": "style"
          },
          " "
         ],
         "tagName": "div"
        }
       ],
       "tagName": "div"
      },
      "text/html": [
       "<script>\n",
       "              (function () {\n",
       "                  var root = document.getElementById('e42241e0-cb5d-4767-ac5c-2cd87ae3bbe1');\n",
       "                  var text = root.getElementsByClassName('pb-text')[0];\n",
       "                  var fill = root.getElementsByClassName('pb-fill')[0];\n",
       "\n",
       "                  text.innerHTML = 'Simulation finished in 0:00:22.';\n",
       "                  \n",
       "            if (100.0 > 0.) {\n",
       "                fill.style.transition = 'width 0.1s linear';\n",
       "            } else {\n",
       "                fill.style.transition = 'none';\n",
       "            }\n",
       "\n",
       "            fill.style.width = '100.0%';\n",
       "            fill.style.animation = 'none';\n",
       "            fill.style.backgroundImage = 'none'\n",
       "        \n",
       "                  \n",
       "                fill.style.animation = 'none';\n",
       "                fill.style.backgroundImage = 'none';\n",
       "            \n",
       "              })();\n",
       "        </script>"
      ]
     },
     "metadata": {},
     "output_type": "display_data"
    }
   ],
   "source": [
    "sim = nengo.Simulator(model,dt=dt)\n",
    "with sim:\n",
    "    sim.run(test_xs.shape[0]*dt)"
   ]
  },
  {
   "cell_type": "code",
   "execution_count": 45,
   "id": "ddc07c07",
   "metadata": {},
   "outputs": [
    {
     "name": "stdout",
     "output_type": "stream",
     "text": [
      "True Negatives: 67984\n",
      "False Positives: 840\n",
      "False Negatives: 2874\n",
      "True Positives: 302\n",
      "Sensitivity: 9.51%\n",
      "Specificity: 98.78%\n"
     ]
    },
    {
     "data": {
      "image/png": "[encoded data removed]",
      "text/plain": [
       "<Figure size 1200x300 with 2 Axes>"
      ]
     },
     "metadata": {},
     "output_type": "display_data"
    }
   ],
   "source": [
    "predictions = np.where(sim.data[p_category].flatten() > np.max(sim.data[p_category].flatten())*decision_threshold, 1, 0)    \n",
    "tn, fp, fn, tp = confusion_matrix( (test_ys/scaling_factor).astype(int), predictions ).ravel()\n",
    "    \n",
    "for performance_metric, number in zip(('True Negatives','False Positives','False Negatives','True Positives'),(tn, fp, fn, tp)):\n",
    "    print('{}: {}'.format(performance_metric,number))\n",
    "    \n",
    "sensitivity = tp / (tp+fn)\n",
    "specificity = tn / (tn+fp)\n",
    "print('Sensitivity: {}%'.format(round(sensitivity*100,2)))\n",
    "print('Specificity: {}%'.format(round(specificity*100,2)))\n",
    "    \n",
    "fig,(ax1,ax2) = plt.subplots(2,1,sharex=True,figsize=(12,3))\n",
    "ax1.plot(sim.trange(), test_ys.flatten()/scaling_factor, label='True')\n",
    "ax2.plot(sim.trange(), sim.data[p_category]/scaling_factor, label='Predicted')\n",
    "ax2.plot(sim.trange(), predictions)\n",
    "\n",
    "ax1.legend()\n",
    "ax2.legend()\n",
    "plt.show()    "
   ]
  }
 ],
 "metadata": {
  "kernelspec": {
   "display_name": "Python 3 (ipykernel)",
   "language": "python",
   "name": "python3"
  },
  "language_info": {
   "codemirror_mode": {
    "name": "ipython",
    "version": 3
   },
   "file_extension": ".py",
   "mimetype": "text/x-python",
   "name": "python",
   "nbconvert_exporter": "python",
   "pygments_lexer": "ipython3",
   "version": "3.9.13"
  }
 },
 "nbformat": 4,
 "nbformat_minor": 5
}
